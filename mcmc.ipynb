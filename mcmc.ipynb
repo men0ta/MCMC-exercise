{
 "cells": [
  {
   "cell_type": "code",
   "execution_count": 1,
   "metadata": {},
   "outputs": [],
   "source": [
    "import random\n",
    "import time\n",
    "import numpy as np\n",
    "import matplotlib.pyplot as plt"
   ]
  },
  {
   "cell_type": "code",
   "execution_count": 2,
   "metadata": {},
   "outputs": [
    {
     "name": "stdout",
     "output_type": "stream",
     "text": [
      "シード: 1726821008085617000\n",
      "生成された乱数: 0.17725270267222948\n"
     ]
    }
   ],
   "source": [
    "# print random numbers using time as random seed\n",
    "# 現在の時刻をナノ秒で取得してシードとして使用\n",
    "# with range from 0 to 1\n",
    "seed = time.time_ns()\n",
    "random.seed(seed)\n",
    "\n",
    "# 疑似乱数を生成\n",
    "random_number = random.random()\n",
    "print(f\"シード: {seed}\")\n",
    "print(f\"生成された乱数: {random_number}\")"
   ]
  },
  {
   "cell_type": "markdown",
   "metadata": {},
   "source": [
    "# 一様乱数を用いて円周率の４分の１を計算する"
   ]
  },
  {
   "cell_type": "code",
   "execution_count": 133,
   "metadata": {},
   "outputs": [
    {
     "name": "stdout",
     "output_type": "stream",
     "text": [
      "Monte Carlo result: 0.7946\n",
      "Analytical result: 0.7853981633974483\n"
     ]
    }
   ],
   "source": [
    "n_iter = 10000 # number of iteration\n",
    "n_init = 0\n",
    "for i in range(n_iter):\n",
    "    seed = time.time_ns()\n",
    "    random.seed(seed)\n",
    "    x = random.random()  # 0から1の間の乱数\n",
    "    y = random.random()\n",
    "    # print('x:', x)\n",
    "    # print('y:', y)\n",
    "\n",
    "    if x ** 2 + y ** 2 < 1:\n",
    "        n_init += 1 # if x**2 + y**2 < 1, count n_init\n",
    "\n",
    "print('Monte Carlo result:', n_init/n_iter)\n",
    "print('Analytical result:', np.pi/4)"
   ]
  },
  {
   "cell_type": "markdown",
   "metadata": {},
   "source": [
    "# メトロポリス法を用いてガウス分布に従う確率変数の期待値と分散を求める\n",
    "確率分布を\n",
    "\\begin{align}\n",
    "P(x) = \\frac{e^{-S(x)}}{Z} = \\frac{e^{-\\frac{x^2}{2}}}{\\sqrt{2 \\pi}}\n",
    "\\end{align}\n",
    "とする"
   ]
  },
  {
   "cell_type": "code",
   "execution_count": 322,
   "metadata": {},
   "outputs": [
    {
     "name": "stdout",
     "output_type": "stream",
     "text": [
      "acceptance rate: 0.6252\n",
      "expectation value of x: 0.0031578527680071527\n",
      "variance of x: 1.0165649982243805\n"
     ]
    }
   ],
   "source": [
    "n_iter = 10000 # number of iteration\n",
    "c = 2 # range of random number. run from -c to c\n",
    "\n",
    "x = 0 # initial value\n",
    "num_accept = 0 # number of acceptance of Metropolis test\n",
    "exp_val = 0 # expectation value of x\n",
    "var = 0 # variance of x\n",
    "\n",
    "for i in range(n_iter):\n",
    "    init_action = 0.5 * (x**2) # compute previous action\n",
    "\n",
    "    # 時刻に依存する乱数を生成\n",
    "    seed = time.time_ns()\n",
    "    random.seed(seed)\n",
    "    rand_num = random.random()\n",
    "    dx = (rand_num - 0.5) * 2 * c\n",
    "\n",
    "    new_x = x + dx # propose a new variable\n",
    "    fin_action = 0.5 * (new_x**2) # compute action based on proposed variable\n",
    "\n",
    "    ## do Metropolis test\n",
    "    seed = time.time_ns()\n",
    "    random.seed(seed)\n",
    "    metropolis = random.random() # object 'metropolis' is random number runs from 0 to 1 corresponding to r in the text book\n",
    "    if np.exp(init_action - fin_action) > metropolis: # accept new variable\n",
    "        x = new_x # update variables\n",
    "        num_accept += 1\n",
    "    \n",
    "    # compute expectation values\n",
    "    exp_val += x\n",
    "    var += x**2\n",
    "\n",
    "# print results\n",
    "print('acceptance rate:', num_accept/n_iter) # acceptance rate should be within 30% ~ 80%\n",
    "print('expectation value of x:', exp_val/n_iter)\n",
    "print('variance of x:', var/n_iter)"
   ]
  },
  {
   "cell_type": "markdown",
   "metadata": {},
   "source": [
    "# 既存の確率分布を用いて未知の分配関数を計算する\n",
    "計算したい分配関数の確率分布：$P(x)=e^{-S(x)}/Z$\n",
    "\n",
    "既知の確率分布としてガウス分布を用いる：$P_0(x)=e^{-S_0(x)}/Z_0$ w/. $S_0(x)=x^2/2, Z_0 = \\sqrt{2\\pi}$\n",
    "\n",
    "このとき, 分配関数の比は計算できて\n",
    "\\begin{align}\n",
    "\\frac{Z}{Z_0} = \\frac{1}{Z_0}\\int dx e^{-S_0(x)} \\cdot e^{S_0(x)-S(x)} = \\langle e^{S_0(x)-S(x)} \\rangle\n",
    "\\end{align}"
   ]
  },
  {
   "cell_type": "code",
   "execution_count": 287,
   "metadata": {},
   "outputs": [],
   "source": [
    "def genAction418(x, inf): # generate action in Eq.(4.18)\n",
    "    if -1 < x and x < 1:\n",
    "        S = - 0.5 * np.log(1 - x ** 2)\n",
    "    else: S = inf\n",
    "    return S"
   ]
  },
  {
   "cell_type": "code",
   "execution_count": 428,
   "metadata": {},
   "outputs": [
    {
     "name": "stdout",
     "output_type": "stream",
     "text": [
      "acceptance rate: 0.6415\n",
      "exp. val. of Z/Z0: 0.6398939837093107\n",
      "exp. val. of Z : 1.603976352332027\n"
     ]
    }
   ],
   "source": [
    "n_iter = 10000 # number of iteration\n",
    "c = 2 # range of random number. run from -c to c(step size)\n",
    "inf = 10 ** 64\n",
    "\n",
    "x = 0 # initial value\n",
    "num_accept = 0 # number of acceptance of Metropolis test\n",
    "expS02S = 0 # set variable we want to compute the expectation value\n",
    "\n",
    "for i in range(n_iter):\n",
    "    init_action = 0.5 * (x**2) # compute previous action\n",
    "\n",
    "    # 時刻に依存する乱数を生成\n",
    "    # generate step size based on random number\n",
    "    seed = time.time_ns()\n",
    "    random.seed(seed)\n",
    "    rand_num = random.random()\n",
    "    dx = (rand_num - 0.5) * 2 * c\n",
    "\n",
    "    new_x = x + dx # propose a new variable\n",
    "    fin_action = 0.5 * (new_x**2) # compute action based on proposed variable\n",
    "\n",
    "    ## do Metropolis test\n",
    "    seed = time.time_ns()\n",
    "    random.seed(seed)\n",
    "    metropolis = random.random() # object 'metropolis' is random number runs from 0 to 1 corresponding to r in the text book\n",
    "    if np.exp(init_action - fin_action) > metropolis: # accept new variable\n",
    "        x = new_x\n",
    "        num_accept += 1\n",
    "    \n",
    "    expS02S += np.exp(0.5 * (x**2) - genAction418(x, inf))\n",
    "\n",
    "# print results\n",
    "print('acceptance rate:', num_accept/n_iter) # acceptance rate should be within 30% ~ 80%\n",
    "print('exp. val. of Z/Z0:', expS02S/n_iter)\n",
    "print('exp. val. of Z :', expS02S/n_iter * np.sqrt(2 * np.pi))"
   ]
  },
  {
   "cell_type": "markdown",
   "metadata": {},
   "source": [
    "$Z$の期待値は$\\pi/2$に収束するはずで\n",
    "\\begin{align}\n",
    "\\frac{\\pi}{2} = 1.57079632679...\n",
    "\\end{align}"
   ]
  },
  {
   "cell_type": "markdown",
   "metadata": {},
   "source": [
    "# 多変数のガウス積分\n",
    "今回はまとめて変数を更新する方法で行う"
   ]
  },
  {
   "cell_type": "code",
   "execution_count": 107,
   "metadata": {},
   "outputs": [
    {
     "name": "stdout",
     "output_type": "stream",
     "text": [
      "acceptance rate: 0.47681\n",
      "expectation value of x: 0.008260955290469768\n",
      "variance of x: 1.3445166899431469\n"
     ]
    }
   ],
   "source": [
    "n_iter = 100000 # number of iteration\n",
    "c_x = 2 # range of random number. run from -c to c(step size)\n",
    "c_y = 2 # step size of each variable can be choosed indepedently(but take the same size step)\n",
    "\n",
    "x = 0 # initial value\n",
    "y = 0\n",
    "num_accept = 0 # number of acceptance of Metropolis test\n",
    "exp_val = 0 # set variable we want to compute the expectation value\n",
    "var = 0\n",
    "points_list = [] # sampling points\n",
    "\n",
    "for i in range(n_iter):\n",
    "    init_action = 0.5 * (x**2 + y**2 + x*y) # compute previous action\n",
    "\n",
    "    # 時刻に依存する乱数を生成\n",
    "    # generate step size based on random number\n",
    "    seed = time.time_ns()\n",
    "    random.seed(seed)\n",
    "    rand_num = random.random()\n",
    "    dx = (rand_num - 0.5) * 2 * c_x\n",
    "    rand_num = random.random()\n",
    "    dy = (rand_num - 0.5) * 2 * c_y\n",
    "\n",
    "    new_x = x + dx # propose a new variable\n",
    "    new_y = y + dy\n",
    "    fin_action = 0.5 * (new_x**2 + new_y**2 + new_x*new_y) # compute action based on proposed variable\n",
    "\n",
    "    ## do Metropolis test\n",
    "    seed = time.time_ns()\n",
    "    random.seed(seed)\n",
    "    metropolis = random.random() # object 'metropolis' is random number runs from 0 to 1 corresponding to r in the text book\n",
    "    if np.exp(init_action - fin_action) > metropolis: # accept new variable\n",
    "        x = new_x\n",
    "        y = new_y\n",
    "        num_accept += 1\n",
    "    \n",
    "    # compute expectation values\n",
    "    exp_val += x\n",
    "    var += x**2\n",
    "    if n_iter % 10 == 0:\n",
    "        points = (x, y)\n",
    "        points_list.append(points)\n",
    "\n",
    "# print results\n",
    "print('acceptance rate:', num_accept/n_iter) # acceptance rate should be within 30% ~ 80%\n",
    "print('expectation value of x:', exp_val/n_iter)\n",
    "print('variance of x:', var/n_iter)"
   ]
  },
  {
   "cell_type": "markdown",
   "metadata": {},
   "source": [
    "・確率分布をプロット\n",
    "\n",
    "・10ステップに1回サンプルを取得\n",
    "\n",
    "・$x=y=0$として熱化を省略"
   ]
  },
  {
   "cell_type": "code",
   "execution_count": 108,
   "metadata": {},
   "outputs": [
    {
     "data": {
      "image/png": "[encoded data removed]",
      "text/plain": [
       "<Figure size 640x480 with 1 Axes>"
      ]
     },
     "metadata": {},
     "output_type": "display_data"
    }
   ],
   "source": [
    "# リストからxとyの値を分けて取得\n",
    "x_values = [x for x, _ in points_list]\n",
    "y_values = [y for _, y in points_list]\n",
    "\n",
    "# プロット\n",
    "plt.scatter(x_values, y_values)\n",
    "\n",
    "# グラフのタイトルとラベル\n",
    "plt.title(\"2 variables Gaussian distribution by Metropolis method\")\n",
    "plt.xlabel(\"x\")\n",
    "plt.ylabel(\"y\")\n",
    "\n",
    "# グリッドを表示\n",
    "plt.grid(True)\n",
    "\n",
    "# グラフを表示\n",
    "plt.show()"
   ]
  },
  {
   "cell_type": "markdown",
   "metadata": {},
   "source": [
    "# 一変数のHMC\n",
    "一変数のガウス積分をHMCで考える"
   ]
  },
  {
   "cell_type": "code",
   "execution_count": 5,
   "metadata": {},
   "outputs": [],
   "source": [
    "def boxMuller(mu, sigma): # generate a variable following Gaussian distribution\n",
    "    seed = time.time_ns()\n",
    "    random.seed(seed)\n",
    "    p = random.random()\n",
    "    seed = time.time_ns()\n",
    "    random.seed(seed)\n",
    "    q = random.random()\n",
    "    x = (np.sqrt(-2 * np.log(p))) * np.cos(2 * np.pi * q)\n",
    "    return sigma * x + mu"
   ]
  },
  {
   "cell_type": "code",
   "execution_count": 6,
   "metadata": {},
   "outputs": [],
   "source": [
    "def actionGaussian(x):\n",
    "    S = 0.5 * (x ** 2)\n",
    "    return S\n",
    "\n",
    "def Hamiltonian(x, p):\n",
    "    S = actionGaussian(x)\n",
    "    H = S + 0.5 * (p ** 2)\n",
    "    return H\n",
    "\n",
    "def delHamiltonian(x): # compute derivative of Hamiltonian w.r.t. x\n",
    "    del_H = x # can compute from action, so if you change the action, you have to change this equation\n",
    "    return del_H\n",
    "\n",
    "def molDynamics(x, d_tau, N_tau): # (fictious) time evolution using leap flog method\n",
    "    p = boxMuller(0, 1) # generate momentum based on Gaussian distribution(mu = 0, sigma = 1)\n",
    "    H_init = Hamiltonian(x, p)\n",
    "    # 1st step of leap flog\n",
    "    x = x + p * 0.5 * d_tau\n",
    "    # loop part of leap flog\n",
    "    for _ in range(N_tau):\n",
    "        p = p - delHamiltonian(x) * d_tau\n",
    "        x = x + p * d_tau\n",
    "    # final part of leap flog\n",
    "    p = p - delHamiltonian(x) * d_tau\n",
    "    x = x + p * 0.5 * d_tau\n",
    "    # compute Hamiltonian at final time tau_fin\n",
    "    H_fin = Hamiltonian(x, p)\n",
    "    return H_init, H_fin, x"
   ]
  },
  {
   "cell_type": "code",
   "execution_count": 7,
   "metadata": {},
   "outputs": [
    {
     "name": "stdout",
     "output_type": "stream",
     "text": [
      "acceptance rate: 0.92118\n",
      "expectation value of x: 0.012399865928374788\n",
      "variance of x: 0.9961962226122104\n"
     ]
    }
   ],
   "source": [
    "n_iter = 100000 # number of iteration\n",
    "d_tau = 1\n",
    "N_tau = 40\n",
    "\n",
    "x = 0 # initial value\n",
    "num_accept = 0 # number of acceptance of Metropolis test\n",
    "exp_val = 0 # set variable we want to compute the expectation value\n",
    "var = 0\n",
    "\n",
    "for i in range(n_iter):\n",
    "    init_action = actionGaussian(x) # compute previous action\n",
    "\n",
    "    H_init, H_fin, new_x = molDynamics(x, d_tau, N_tau) # time evolution -> compute initisl Hamiltonian and final Hamiltonian, and propose new variables\n",
    "\n",
    "    ## do Metropolis test\n",
    "    seed = time.time_ns()\n",
    "    random.seed(seed)\n",
    "    metropolis = random.random() # object 'metropolis' is random number runs from 0 to 1 corresponding to r in the text book\n",
    "    if np.exp(H_init - H_fin) > metropolis: # accept new variable\n",
    "        x = new_x\n",
    "        num_accept += 1\n",
    "    \n",
    "    # compute expectation values\n",
    "    exp_val += x\n",
    "    var += x**2\n",
    "\n",
    "# print results\n",
    "print('acceptance rate:', num_accept/n_iter) # acceptance rate should be within 30% ~ 80%\n",
    "print('expectation value of x:', exp_val/n_iter)\n",
    "print('variance of x:', var/n_iter)"
   ]
  },
  {
   "cell_type": "markdown",
   "metadata": {},
   "source": [
    "# 多変数のガウス積分をHMC法でやる"
   ]
  },
  {
   "cell_type": "code",
   "execution_count": 8,
   "metadata": {},
   "outputs": [],
   "source": [
    "def actionGaussianMulti(x, A):\n",
    "    S = 0.5 * np.dot(x.T, A @ x)\n",
    "    return S\n",
    "\n",
    "def HamiltonianMulti(x, p, A):\n",
    "    S = actionGaussianMulti(x, A)\n",
    "    H = S + 0.5 * np.dot(p.T, p)\n",
    "    return H\n",
    "\n",
    "def delHamiltonianMulti(x, A): # compute derivative of Hamiltonian w.r.t. x\n",
    "    del_H = A @ x # can compute from action, so if you change the action, you have to change this equation\n",
    "    return del_H\n",
    "\n",
    "def molDynamicsMulti(x, A, d_tau, N_tau, ndim): # (fictious) time evolution using leap flog method\n",
    "    p = np.zeros((ndim, 1))\n",
    "    for idim in range(ndim):\n",
    "        p[idim] = boxMuller(0, 1) # generate each element of momentum based on Gaussian distribution(mu = 0, sigma = 1)\n",
    "    H_init = HamiltonianMulti(x, p, A)\n",
    "    # 1st step of leap flog\n",
    "    x = x + p * 0.5 * d_tau\n",
    "    # loop part of leap flog\n",
    "    for _ in range(N_tau):\n",
    "        p = p - delHamiltonianMulti(x, A) * d_tau\n",
    "        x = x + p * d_tau\n",
    "    # final part of leap flog\n",
    "    p = p - delHamiltonianMulti(x, A) * d_tau\n",
    "    x = x + p * 0.5 * d_tau\n",
    "    # compute Hamiltonian at final time tau_fin\n",
    "    H_fin = HamiltonianMulti(x, p, A)\n",
    "    return H_init, H_fin, x"
   ]
  },
  {
   "cell_type": "code",
   "execution_count": 11,
   "metadata": {},
   "outputs": [
    {
     "name": "stdout",
     "output_type": "stream",
     "text": [
      "acceptance rate: 0.8974\n",
      "expectation value of x: [[0.00795367]\n",
      " [0.00049237]]\n",
      "variance of x: [[1.36031218]\n",
      " [1.31607326]]\n"
     ]
    }
   ],
   "source": [
    "n_iter = 10000 # number of iteration\n",
    "d_tau = 1\n",
    "N_tau = 40\n",
    "ndim = 2\n",
    "\n",
    "x = np.zeros((ndim, 1)) # initial value\n",
    "A = np.zeros((ndim, ndim))\n",
    "A[0][1] = A[1][0] = 0.5\n",
    "A[0][0] = A[1][1] = 1\n",
    "num_accept = 0 # number of acceptance of Metropolis test\n",
    "exp_val = 0 # set variable we want to compute the expectation value\n",
    "var = 0\n",
    "points_list = [] # sampling points\n",
    "\n",
    "for i in range(n_iter):\n",
    "    init_action = actionGaussianMulti(x, A) # compute previous action\n",
    "\n",
    "    H_init, H_fin, new_x = molDynamicsMulti(x, A, d_tau, N_tau, ndim) # time evolution -> compute initisl Hamiltonian and final Hamiltonian, and propose new variables\n",
    "\n",
    "    ## do Metropolis test\n",
    "    seed = time.time_ns()\n",
    "    random.seed(seed)\n",
    "    metropolis = random.random() # object 'metropolis' is random number runs from 0 to 1 corresponding to r in the text book\n",
    "    if np.exp(H_init - H_fin) > metropolis: # accept new variable\n",
    "        x = new_x\n",
    "        num_accept += 1\n",
    "    \n",
    "    # compute expectation values\n",
    "    exp_val += x\n",
    "    var += x**2\n",
    "    if i % 10 == 0:\n",
    "        points = (x)\n",
    "        points_list.append(points)\n",
    "\n",
    "# print results\n",
    "print('acceptance rate:', num_accept/n_iter) # acceptance rate should be within 30% ~ 80%\n",
    "print('expectation value of x:', exp_val/n_iter)\n",
    "print('variance of x:', var/n_iter)"
   ]
  },
  {
   "cell_type": "code",
   "execution_count": 12,
   "metadata": {},
   "outputs": [
    {
     "data": {
      "image/png": "[encoded data removed]",
      "text/plain": [
       "<Figure size 640x480 with 1 Axes>"
      ]
     },
     "metadata": {},
     "output_type": "display_data"
    }
   ],
   "source": [
    "# リストからxとyの値を分けて取得\n",
    "x_values = [x for x, _ in points_list]\n",
    "y_values = [y for _, y in points_list]\n",
    "\n",
    "# プロット\n",
    "plt.scatter(x_values, y_values)\n",
    "\n",
    "# グラフのタイトルとラベル\n",
    "plt.title(\"2 variables Gaussian distribution by Metropolis method\")\n",
    "plt.xlabel(\"x\")\n",
    "plt.ylabel(\"y\")\n",
    "\n",
    "# グリッドを表示\n",
    "plt.grid(True)\n",
    "\n",
    "# グラフを表示\n",
    "plt.show()"
   ]
  }
 ],
 "metadata": {
  "kernelspec": {
   "display_name": "Python 3",
   "language": "python",
   "name": "python3"
  },
  "language_info": {
   "codemirror_mode": {
    "name": "ipython",
    "version": 3
   },
   "file_extension": ".py",
   "mimetype": "text/x-python",
   "name": "python",
   "nbconvert_exporter": "python",
   "pygments_lexer": "ipython3",
   "version": "3.9.6"
  }
 },
 "nbformat": 4,
 "nbformat_minor": 2
}
