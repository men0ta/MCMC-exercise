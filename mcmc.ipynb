{
 "cells": [
  {
   "cell_type": "code",
   "execution_count": 39,
   "metadata": {},
   "outputs": [],
   "source": [
    "import random\n",
    "import time\n",
    "import numpy as np"
   ]
  },
  {
   "cell_type": "code",
   "execution_count": 170,
   "metadata": {},
   "outputs": [
    {
     "name": "stdout",
     "output_type": "stream",
     "text": [
      "シード: 1724910757220049000\n",
      "生成された乱数: 0.7523513236765458\n"
     ]
    }
   ],
   "source": [
    "# print random numbers using time as random seed\n",
    "# 現在の時刻をナノ秒で取得してシードとして使用\n",
    "# with range from 0 to 1\n",
    "seed = time.time_ns()\n",
    "random.seed(seed)\n",
    "\n",
    "# 疑似乱数を生成\n",
    "random_number = random.random()\n",
    "print(f\"シード: {seed}\")\n",
    "print(f\"生成された乱数: {random_number}\")"
   ]
  },
  {
   "cell_type": "markdown",
   "metadata": {},
   "source": [
    "# 一様乱数を用いて円周率の４分の１を計算する"
   ]
  },
  {
   "cell_type": "code",
   "execution_count": 133,
   "metadata": {},
   "outputs": [
    {
     "name": "stdout",
     "output_type": "stream",
     "text": [
      "Monte Carlo result: 0.7946\n",
      "Analytical result: 0.7853981633974483\n"
     ]
    }
   ],
   "source": [
    "n_iter = 10000 # number of iteration\n",
    "n_init = 0\n",
    "for i in range(n_iter):\n",
    "    seed = time.time_ns()\n",
    "    random.seed(seed)\n",
    "    x = random.random()  # 0から1の間の乱数\n",
    "    y = random.random()\n",
    "    # print('x:', x)\n",
    "    # print('y:', y)\n",
    "\n",
    "    if x ** 2 + y ** 2 < 1:\n",
    "        n_init += 1 # if x**2 + y**2 < 1, count n_init\n",
    "\n",
    "print('Monte Carlo result:', n_init/n_iter)\n",
    "print('Analytical result:', np.pi/4)"
   ]
  },
  {
   "cell_type": "markdown",
   "metadata": {},
   "source": [
    "# メトロポリス法を用いてガウス分布に従う確率変数の期待値と分散を求める\n",
    "確率分布を\n",
    "\\begin{align}\n",
    "P(x) = \\frac{e^{-S(x)}}{Z} = \\frac{e^{-\\frac{x^2}{2}}}{\\sqrt{2 \\pi}}\n",
    "\\end{align}\n",
    "とする"
   ]
  },
  {
   "cell_type": "code",
   "execution_count": 322,
   "metadata": {},
   "outputs": [
    {
     "name": "stdout",
     "output_type": "stream",
     "text": [
      "acceptance rate: 0.6252\n",
      "expectation value of x: 0.0031578527680071527\n",
      "variance of x: 1.0165649982243805\n"
     ]
    }
   ],
   "source": [
    "n_iter = 10000 # number of iteration\n",
    "c = 2 # range of random number. run from -c to c\n",
    "\n",
    "x = 0 # initial value\n",
    "num_accept = 0 # number of acceptance of Metropolis test\n",
    "exp_val = 0 # expectation value of x\n",
    "var = 0 # variance of x\n",
    "\n",
    "for i in range(n_iter):\n",
    "    init_action = 0.5 * (x**2) # compute previous action\n",
    "\n",
    "    # 時刻に依存する乱数を生成\n",
    "    seed = time.time_ns()\n",
    "    random.seed(seed)\n",
    "    rand_num = random.random()\n",
    "    dx = (rand_num - 0.5) * 2 * c\n",
    "\n",
    "    new_x = x + dx # propose a new variable\n",
    "    fin_action = 0.5 * (new_x**2) # compute action based on proposed variable\n",
    "\n",
    "    ## do Metropolis test\n",
    "    seed = time.time_ns()\n",
    "    random.seed(seed)\n",
    "    metropolis = random.random() # object 'metropolis' is random number runs from 0 to 1 corresponding to r in the text book\n",
    "    if np.exp(init_action - fin_action) > metropolis: # accept new variable\n",
    "        x = new_x # update variables\n",
    "        num_accept += 1\n",
    "    \n",
    "    # compute expectation values\n",
    "    exp_val += x\n",
    "    var += x**2\n",
    "\n",
    "# print results\n",
    "print('acceptance rate:', num_accept/n_iter) # acceptance rate should be within 30% ~ 80%\n",
    "print('expectation value of x:', exp_val/n_iter)\n",
    "print('variance of x:', var/n_iter)"
   ]
  },
  {
   "cell_type": "markdown",
   "metadata": {},
   "source": [
    "# 既存の確率分布を用いて未知の分配関数を計算する\n",
    "計算したい分配関数の確率分布：$P(x)=e^{-S(x)}/Z$\n",
    "\n",
    "既知の確率分布としてガウス分布を用いる：$P_0(x)=e^{-S_0(x)}/Z_0$ w/. $S_0(x)=x^2/2, Z_0 = \\sqrt{2\\pi}$\n",
    "\n",
    "このとき, 分配関数の比は計算できて\n",
    "\\begin{align}\n",
    "\\frac{Z}{Z_0} = \\frac{1}{Z_0}\\int dx e^{-S_0(x)} \\cdot e^{S_0(x)-S(x)} = \\langle e^{S_0(x)-S(x)} \\rangle\n",
    "\\end{align}"
   ]
  },
  {
   "cell_type": "code",
   "execution_count": 287,
   "metadata": {},
   "outputs": [],
   "source": [
    "def genAction418(x, inf): # generate action in Eq.(4.18)\n",
    "    if -1 < x and x < 1:\n",
    "        S = - 0.5 * np.log(1 - x ** 2)\n",
    "    else: S = inf\n",
    "    return S"
   ]
  },
  {
   "cell_type": "code",
   "execution_count": 428,
   "metadata": {},
   "outputs": [
    {
     "name": "stdout",
     "output_type": "stream",
     "text": [
      "acceptance rate: 0.6415\n",
      "exp. val. of Z/Z0: 0.6398939837093107\n",
      "exp. val. of Z : 1.603976352332027\n"
     ]
    }
   ],
   "source": [
    "n_iter = 10000 # number of iteration\n",
    "c = 2 # range of random number. run from -c to c(step size)\n",
    "inf = 10 ** 64\n",
    "\n",
    "x = 0 # initial value\n",
    "num_accept = 0 # number of acceptance of Metropolis test\n",
    "expS02S = 0 # set variable we want to compute the expectation value\n",
    "\n",
    "for i in range(n_iter):\n",
    "    init_action = 0.5 * (x**2) # compute previous action\n",
    "\n",
    "    # 時刻に依存する乱数を生成\n",
    "    # generate step size based on random number\n",
    "    seed = time.time_ns()\n",
    "    random.seed(seed)\n",
    "    rand_num = random.random()\n",
    "    dx = (rand_num - 0.5) * 2 * c\n",
    "\n",
    "    new_x = x + dx # propose a new variable\n",
    "    fin_action = 0.5 * (new_x**2) # compute action based on proposed variable\n",
    "\n",
    "    ## do Metropolis test\n",
    "    seed = time.time_ns()\n",
    "    random.seed(seed)\n",
    "    metropolis = random.random() # object 'metropolis' is random number runs from 0 to 1 corresponding to r in the text book\n",
    "    if np.exp(init_action - fin_action) > metropolis: # accept new variable\n",
    "        x = new_x\n",
    "        num_accept += 1\n",
    "    \n",
    "    expS02S += np.exp(0.5 * (x**2) - genAction418(x, inf))\n",
    "\n",
    "# print results\n",
    "print('acceptance rate:', num_accept/n_iter) # acceptance rate should be within 30% ~ 80%\n",
    "print('exp. val. of Z/Z0:', expS02S/n_iter)\n",
    "print('exp. val. of Z :', expS02S/n_iter * np.sqrt(2 * np.pi))"
   ]
  },
  {
   "cell_type": "markdown",
   "metadata": {},
   "source": [
    "$Z$の期待値は$\\pi/2$に収束するはずで\n",
    "\\begin{align}\n",
    "\\frac{\\pi}{2} = 1.57079632679...\n",
    "\\end{align}"
   ]
  },
  {
   "cell_type": "markdown",
   "metadata": {},
   "source": [
    "# 多変数のガウス積分\n",
    "今回は、まとめて変数を更新する方法で行う"
   ]
  },
  {
   "cell_type": "code",
   "execution_count": 441,
   "metadata": {},
   "outputs": [
    {
     "name": "stdout",
     "output_type": "stream",
     "text": [
      "acceptance rate: 0.4817\n",
      "expectation value of x: -0.039222718267121884\n",
      "variance of x: 1.3105820450465813\n"
     ]
    }
   ],
   "source": [
    "n_iter = 10000 # number of iteration\n",
    "c_x = 2 # range of random number. run from -c to c(step size)\n",
    "c_y = 2 # step size of each variable can be choosed indepedently\n",
    "inf = 10 ** 64\n",
    "\n",
    "x = 0 # initial value\n",
    "y = 0\n",
    "num_accept = 0 # number of acceptance of Metropolis test\n",
    "exp_val = 0 # set variable we want to compute the expectation value\n",
    "var = 0\n",
    "\n",
    "for i in range(n_iter):\n",
    "    init_action = 0.5 * (x**2 + y**2 + x*y) # compute previous action\n",
    "\n",
    "    # 時刻に依存する乱数を生成\n",
    "    # generate step size based on random number\n",
    "    seed = time.time_ns()\n",
    "    random.seed(seed)\n",
    "    rand_num = random.random()\n",
    "    dx = (rand_num - 0.5) * 2 * c_x\n",
    "    rand_num = random.random()\n",
    "    dy = (rand_num - 0.5) * 2 * c_y\n",
    "\n",
    "    new_x = x + dx # propose a new variable\n",
    "    new_y = y + dy\n",
    "    fin_action = 0.5 * (new_x**2 + new_y**2 + new_x*new_y) # compute action based on proposed variable\n",
    "\n",
    "    ## do Metropolis test\n",
    "    seed = time.time_ns()\n",
    "    random.seed(seed)\n",
    "    metropolis = random.random() # object 'metropolis' is random number runs from 0 to 1 corresponding to r in the text book\n",
    "    if np.exp(init_action - fin_action) > metropolis: # accept new variable\n",
    "        x = new_x\n",
    "        y = new_y\n",
    "        num_accept += 1\n",
    "    \n",
    "    # compute expectation values\n",
    "    exp_val += x\n",
    "    var += x**2\n",
    "\n",
    "# print results\n",
    "print('acceptance rate:', num_accept/n_iter) # acceptance rate should be within 30% ~ 80%\n",
    "print('expectation value of x:', exp_val/n_iter)\n",
    "print('variance of x:', var/n_iter)"
   ]
  }
 ],
 "metadata": {
  "kernelspec": {
   "display_name": "Python 3",
   "language": "python",
   "name": "python3"
  },
  "language_info": {
   "codemirror_mode": {
    "name": "ipython",
    "version": 3
   },
   "file_extension": ".py",
   "mimetype": "text/x-python",
   "name": "python",
   "nbconvert_exporter": "python",
   "pygments_lexer": "ipython3",
   "version": "3.9.6"
  }
 },
 "nbformat": 4,
 "nbformat_minor": 2
}
